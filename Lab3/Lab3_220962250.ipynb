{
 "cells": [
  {
   "cell_type": "markdown",
   "id": "833981a0",
   "metadata": {},
   "source": [
    "### 1) \n",
    "For the following training data, build a linear regression model. Assume w and b are\n",
    "initialized with 1 and learning parameter is set to 0.001.\n",
    "\n",
    "x = torch.tensor( [12.4, 14.3, 14.5, 14.9, 16.1, 16.9, 16.5, 15.4, 17.0, 17.9, 18.8, 20.3, 22.4,\n",
    "19.4, 15.5, 16.7, 17.3, 18.4, 19.2, 17.4, 19.5, 19.7, 21.2])\n",
    "\n",
    "y = torch.tensor( [11.2, 12.5, 12.7, 13.1, 14.1, 14.8, 14.4, 13.4, 14.9, 15.6, 16.4, 17.7, 19.6,\n",
    "16.9, 14.0, 14.6, 15.1, 16.1, 16.8, 15.2, 17.0, 17.2, 18.6])\n",
    "\n",
    "Assume learning rate =0.001. Plot the graph of epoch in x axis and loss in y axis."
   ]
  },
  {
   "cell_type": "code",
   "execution_count": 1,
   "id": "258c81ed",
   "metadata": {},
   "outputs": [],
   "source": [
    "import torch\n",
    "import torch.nn as nn\n",
    "import torch.optim as optim\n",
    "from torch.utils.data import Dataset, DataLoader\n",
    "import matplotlib.pyplot as plt"
   ]
  },
  {
   "cell_type": "code",
   "execution_count": 2,
   "id": "51f2a099",
   "metadata": {},
   "outputs": [],
   "source": [
    "x = torch.tensor([12.4, 14.3, 14.5, 14.9, 16.1, 16.9, 16.5, 15.4, 17.0, 17.9, 18.8, 20.3, 22.4, \n",
    "                  19.4, 15.5, 16.7, 17.3, 18.4, 19.2, 17.4, 19.5, 19.7, 21.2], dtype=torch.float32)\n",
    "y = torch.tensor([11.2, 12.5, 12.7, 13.1, 14.1, 14.8, 14.4, 13.4, 14.9, 15.6, 16.4, 17.7, 19.6,\n",
    "                  16.9, 14.0, 14.6, 15.1, 16.1, 16.8, 15.2, 17.0, 17.2, 18.6], dtype=torch.float32)\n",
    "\n",
    "\n",
    "w = torch.tensor(1.0, dtype=torch.float32, requires_grad=True)\n",
    "b = torch.tensor(1.0, dtype=torch.float32, requires_grad=True)"
   ]
  },
  {
   "cell_type": "code",
   "execution_count": 3,
   "id": "52e865af",
   "metadata": {},
   "outputs": [],
   "source": [
    "learning_rate = 0.001\n",
    "epochs = 1000\n",
    "\n",
    "def compute_loss(y_pred, y_true):\n",
    "    return torch.mean((y_pred - y_true) ** 2)\n",
    "\n",
    "losses = []"
   ]
  },
  {
   "cell_type": "code",
   "execution_count": 4,
   "id": "bd82b00f",
   "metadata": {},
   "outputs": [
    {
     "name": "stdout",
     "output_type": "stream",
     "text": [
      "Epoch 100/1000, Loss: 0.017305942252278328\n",
      "Epoch 200/1000, Loss: 0.017266780138015747\n",
      "Epoch 300/1000, Loss: 0.017227966338396072\n",
      "Epoch 400/1000, Loss: 0.017189394682645798\n",
      "Epoch 500/1000, Loss: 0.017150914296507835\n",
      "Epoch 600/1000, Loss: 0.017113009467720985\n",
      "Epoch 700/1000, Loss: 0.017075179144740105\n",
      "Epoch 800/1000, Loss: 0.01703762449324131\n",
      "Epoch 900/1000, Loss: 0.017000438645482063\n",
      "Epoch 1000/1000, Loss: 0.016963301226496696\n"
     ]
    }
   ],
   "source": [
    "for epoch in range(epochs):\n",
    "    y_pred = w * x + b\n",
    "    \n",
    "    loss = compute_loss(y_pred, y)\n",
    "    \n",
    "    losses.append(loss.item())\n",
    "    \n",
    "    loss.backward()\n",
    "    \n",
    "    with torch.no_grad():\n",
    "        w -= learning_rate * w.grad\n",
    "        b -= learning_rate * b.grad\n",
    "    \n",
    "    w.grad.zero_()\n",
    "    b.grad.zero_()\n",
    "\n",
    "    if (epoch + 1) % 100 == 0:\n",
    "        print(f'Epoch {epoch + 1}/{epochs}, Loss: {loss.item()}')"
   ]
  },
  {
   "cell_type": "code",
   "execution_count": 5,
   "id": "59eab3e9",
   "metadata": {},
   "outputs": [
    {
     "data": {
      "image/png": "[encoded data removed]",
      "text/plain": [
       "<Figure size 640x480 with 1 Axes>"
      ]
     },
     "metadata": {},
     "output_type": "display_data"
    }
   ],
   "source": [
    "plt.plot(range(epochs), losses)\n",
    "plt.xlabel('Epoch')\n",
    "plt.ylabel('Loss')\n",
    "plt.title('Epoch vs Loss')\n",
    "plt.show()"
   ]
  },
  {
   "cell_type": "markdown",
   "id": "d2202823",
   "metadata": {},
   "source": [
    "### 2)\n",
    "Find the value of w.grad, b.grad using analytical solution for the given linear regression\n",
    "problem. Initial value of w = b =1. Learning parameter is set to 0.001. Implement the same\n",
    "and verify the values of w.grad , b.grad and updated parameter values for two epochs.\n",
    "Consider the difference between predicted and target values of y is defined as (yp-y)."
   ]
  },
  {
   "cell_type": "code",
   "execution_count": 6,
   "id": "0f07a137",
   "metadata": {},
   "outputs": [],
   "source": [
    "x = torch.tensor([2, 4], dtype=torch.float32)\n",
    "y = torch.tensor([20, 40], dtype=torch.float32)\n",
    "\n",
    "w = torch.tensor(1.0, dtype=torch.float32, requires_grad=True)\n",
    "b = torch.tensor(1.0, dtype=torch.float32, requires_grad=True)\n",
    "\n",
    "learning_rate = 0.001\n",
    "\n",
    "epochs = 2"
   ]
  },
  {
   "cell_type": "code",
   "execution_count": 7,
   "id": "84eaa565",
   "metadata": {},
   "outputs": [
    {
     "name": "stdout",
     "output_type": "stream",
     "text": [
      "Epoch 1:\n",
      "Gradient with respect to w: 174.0\n",
      "Gradient with respect to b: 52.0\n",
      "Updated w: 0.8259999752044678\n",
      "Updated b: 0.9480000138282776\n",
      "\n",
      "Epoch 2:\n",
      "Gradient with respect to w: 177.79200744628906\n",
      "Gradient with respect to b: 53.14800262451172\n",
      "Updated w: 0.64820796251297\n",
      "Updated b: 0.8948519825935364\n",
      "\n"
     ]
    }
   ],
   "source": [
    "for epoch in range(epochs):\n",
    "    \n",
    "    y_pred = w * x + b\n",
    "    \n",
    "    diff = y_pred - y\n",
    "    \n",
    "    grad_w = -2 * torch.mean(x * diff)\n",
    "    grad_b = -2 * torch.mean(diff)\n",
    "    \n",
    "    \n",
    "    with torch.no_grad():\n",
    "        w -= learning_rate * grad_w\n",
    "        b -= learning_rate * grad_b\n",
    "\n",
    "    \n",
    "    print(f\"Epoch {epoch + 1}:\")\n",
    "    print(f\"Gradient with respect to w: {grad_w.item()}\")\n",
    "    print(f\"Gradient with respect to b: {grad_b.item()}\")\n",
    "    print(f\"Updated w: {w.item()}\")\n",
    "    print(f\"Updated b: {b.item()}\\n\")"
   ]
  },
  {
   "cell_type": "markdown",
   "id": "8eb1d30e",
   "metadata": {},
   "source": [
    "### 3)\n",
    "Revise the linear regression model by defining a user defined class titled RegressionModel\n",
    "with two parameters w and b as its member variables. Define a constructor to initialize w\n",
    "and b with value 1. Define four member functions namely forward(x) to implement wx+b,\n",
    "update() to update w and b values, reset_grad() to reset parameters to zero, criterion(y, yp)\n",
    "to implement MSE Loss given the predicted y value yp and the target label y. Define an\n",
    "object of this class named model and invoke all the methods. Plot the graph of epoch vs\n",
    "loss by varying epoch to 100 iterations.\n",
    "\n",
    "x = torch.tensor([5.0, 7.0, 12.0, 16.0, 20.0])\n",
    "\n",
    "y = torch.tensor([40.0, 120.0, 180.0, 210.0, 240.0])\n",
    "\n",
    "learning_rate = torch.tensor(0.001)"
   ]
  },
  {
   "cell_type": "code",
   "execution_count": 8,
   "id": "ab1b16fe",
   "metadata": {},
   "outputs": [],
   "source": [
    "x = torch.tensor([5.0, 7.0, 12.0, 16.0, 20.0])\n",
    "y = torch.tensor([40.0, 120.0, 180.0, 210.0, 240.0])\n",
    "learning_rate = torch.tensor(0.001)"
   ]
  },
  {
   "cell_type": "code",
   "execution_count": 9,
   "id": "da78b3c6",
   "metadata": {},
   "outputs": [],
   "source": [
    "class RegressionModel:\n",
    "    def __init__(self):\n",
    "        self.w = torch.rand([1], requires_grad = True)\n",
    "        self.b = torch.rand([1], requires_grad = True)\n",
    "        \n",
    "    def forward(self, x):\n",
    "        return self.w * x + self.b\n",
    "    \n",
    "    def update(self):\n",
    "        self.w -= learning_rate * self.w.grad\n",
    "        self.b -= learning_rate * self.b.grad\n",
    "    \n",
    "    def reset_grad(self):\n",
    "        self.w.grad.zero_()\n",
    "        self.b.grad.zero_()\n",
    "        \n",
    "def criterion(yj, y_p):\n",
    "    return (yj-y_p)**2"
   ]
  },
  {
   "cell_type": "code",
   "execution_count": 10,
   "id": "208370c4",
   "metadata": {},
   "outputs": [
    {
     "name": "stdout",
     "output_type": "stream",
     "text": [
      "The parameter are w=tensor([4.6127], requires_grad=True), b=tensor([1.0384], requires_grad=True), and loss=29194.40625\n",
      "The parameter are w=tensor([7.5192], requires_grad=True), b=tensor([1.2416], requires_grad=True), and loss=12567.0576171875\n",
      "The parameter are w=tensor([9.4047], requires_grad=True), b=tensor([1.3747], requires_grad=True), and loss=5568.9755859375\n",
      "The parameter are w=tensor([10.6278], requires_grad=True), b=tensor([1.4622], requires_grad=True), and loss=2623.63330078125\n",
      "The parameter are w=tensor([11.4212], requires_grad=True), b=tensor([1.5202], requires_grad=True), and loss=1383.998046875\n",
      "The parameter are w=tensor([11.9359], requires_grad=True), b=tensor([1.5591], requires_grad=True), and loss=862.25634765625\n",
      "The parameter are w=tensor([12.2697], requires_grad=True), b=tensor([1.5855], requires_grad=True), and loss=642.66015625\n",
      "The parameter are w=tensor([12.4861], requires_grad=True), b=tensor([1.6039], requires_grad=True), and loss=550.2301635742188\n",
      "The parameter are w=tensor([12.6265], requires_grad=True), b=tensor([1.6170], requires_grad=True), and loss=511.32135009765625\n",
      "The parameter are w=tensor([12.7175], requires_grad=True), b=tensor([1.6267], requires_grad=True), and loss=494.93853759765625\n",
      "The parameter are w=tensor([12.7764], requires_grad=True), b=tensor([1.6342], requires_grad=True), and loss=488.03643798828125\n",
      "The parameter are w=tensor([12.8145], requires_grad=True), b=tensor([1.6403], requires_grad=True), and loss=485.1244201660156\n",
      "The parameter are w=tensor([12.8392], requires_grad=True), b=tensor([1.6455], requires_grad=True), and loss=483.89154052734375\n",
      "The parameter are w=tensor([12.8551], requires_grad=True), b=tensor([1.6501], requires_grad=True), and loss=483.36639404296875\n",
      "The parameter are w=tensor([12.8654], requires_grad=True), b=tensor([1.6542], requires_grad=True), and loss=483.13812255859375\n",
      "The parameter are w=tensor([12.8719], requires_grad=True), b=tensor([1.6582], requires_grad=True), and loss=483.0348205566406\n",
      "The parameter are w=tensor([12.8761], requires_grad=True), b=tensor([1.6619], requires_grad=True), and loss=482.98486328125\n",
      "The parameter are w=tensor([12.8787], requires_grad=True), b=tensor([1.6656], requires_grad=True), and loss=482.95660400390625\n",
      "The parameter are w=tensor([12.8804], requires_grad=True), b=tensor([1.6692], requires_grad=True), and loss=482.9378967285156\n",
      "The parameter are w=tensor([12.8813], requires_grad=True), b=tensor([1.6727], requires_grad=True), and loss=482.923095703125\n",
      "The parameter are w=tensor([12.8819], requires_grad=True), b=tensor([1.6762], requires_grad=True), and loss=482.909912109375\n",
      "The parameter are w=tensor([12.8821], requires_grad=True), b=tensor([1.6797], requires_grad=True), and loss=482.8971252441406\n",
      "The parameter are w=tensor([12.8822], requires_grad=True), b=tensor([1.6831], requires_grad=True), and loss=482.88531494140625\n",
      "The parameter are w=tensor([12.8822], requires_grad=True), b=tensor([1.6866], requires_grad=True), and loss=482.873291015625\n",
      "The parameter are w=tensor([12.8821], requires_grad=True), b=tensor([1.6901], requires_grad=True), and loss=482.86138916015625\n",
      "The parameter are w=tensor([12.8820], requires_grad=True), b=tensor([1.6935], requires_grad=True), and loss=482.8495178222656\n",
      "The parameter are w=tensor([12.8818], requires_grad=True), b=tensor([1.6970], requires_grad=True), and loss=482.8372497558594\n",
      "The parameter are w=tensor([12.8816], requires_grad=True), b=tensor([1.7004], requires_grad=True), and loss=482.8255920410156\n",
      "The parameter are w=tensor([12.8814], requires_grad=True), b=tensor([1.7038], requires_grad=True), and loss=482.8138122558594\n",
      "The parameter are w=tensor([12.8812], requires_grad=True), b=tensor([1.7073], requires_grad=True), and loss=482.8016662597656\n",
      "The parameter are w=tensor([12.8809], requires_grad=True), b=tensor([1.7107], requires_grad=True), and loss=482.7896423339844\n",
      "The parameter are w=tensor([12.8807], requires_grad=True), b=tensor([1.7142], requires_grad=True), and loss=482.778076171875\n",
      "The parameter are w=tensor([12.8805], requires_grad=True), b=tensor([1.7176], requires_grad=True), and loss=482.7659606933594\n",
      "The parameter are w=tensor([12.8802], requires_grad=True), b=tensor([1.7210], requires_grad=True), and loss=482.75408935546875\n",
      "The parameter are w=tensor([12.8800], requires_grad=True), b=tensor([1.7245], requires_grad=True), and loss=482.74237060546875\n",
      "The parameter are w=tensor([12.8798], requires_grad=True), b=tensor([1.7279], requires_grad=True), and loss=482.73040771484375\n",
      "The parameter are w=tensor([12.8795], requires_grad=True), b=tensor([1.7313], requires_grad=True), and loss=482.71844482421875\n",
      "The parameter are w=tensor([12.8793], requires_grad=True), b=tensor([1.7347], requires_grad=True), and loss=482.707275390625\n",
      "The parameter are w=tensor([12.8791], requires_grad=True), b=tensor([1.7382], requires_grad=True), and loss=482.69512939453125\n",
      "The parameter are w=tensor([12.8788], requires_grad=True), b=tensor([1.7416], requires_grad=True), and loss=482.68328857421875\n",
      "The parameter are w=tensor([12.8786], requires_grad=True), b=tensor([1.7450], requires_grad=True), and loss=482.6715393066406\n",
      "The parameter are w=tensor([12.8784], requires_grad=True), b=tensor([1.7484], requires_grad=True), and loss=482.6598205566406\n",
      "The parameter are w=tensor([12.8781], requires_grad=True), b=tensor([1.7519], requires_grad=True), and loss=482.648193359375\n",
      "The parameter are w=tensor([12.8779], requires_grad=True), b=tensor([1.7553], requires_grad=True), and loss=482.63641357421875\n",
      "The parameter are w=tensor([12.8776], requires_grad=True), b=tensor([1.7587], requires_grad=True), and loss=482.6243591308594\n",
      "The parameter are w=tensor([12.8774], requires_grad=True), b=tensor([1.7621], requires_grad=True), and loss=482.6127014160156\n",
      "The parameter are w=tensor([12.8772], requires_grad=True), b=tensor([1.7655], requires_grad=True), and loss=482.6009216308594\n",
      "The parameter are w=tensor([12.8769], requires_grad=True), b=tensor([1.7690], requires_grad=True), and loss=482.589111328125\n",
      "The parameter are w=tensor([12.8767], requires_grad=True), b=tensor([1.7724], requires_grad=True), and loss=482.5773010253906\n",
      "The parameter are w=tensor([12.8765], requires_grad=True), b=tensor([1.7758], requires_grad=True), and loss=482.5657653808594\n",
      "The parameter are w=tensor([12.8762], requires_grad=True), b=tensor([1.7792], requires_grad=True), and loss=482.55413818359375\n",
      "The parameter are w=tensor([12.8760], requires_grad=True), b=tensor([1.7826], requires_grad=True), and loss=482.5423889160156\n",
      "The parameter are w=tensor([12.8758], requires_grad=True), b=tensor([1.7860], requires_grad=True), and loss=482.5306091308594\n",
      "The parameter are w=tensor([12.8755], requires_grad=True), b=tensor([1.7894], requires_grad=True), and loss=482.51922607421875\n",
      "The parameter are w=tensor([12.8753], requires_grad=True), b=tensor([1.7928], requires_grad=True), and loss=482.5072326660156\n",
      "The parameter are w=tensor([12.8751], requires_grad=True), b=tensor([1.7963], requires_grad=True), and loss=482.49566650390625\n",
      "The parameter are w=tensor([12.8748], requires_grad=True), b=tensor([1.7997], requires_grad=True), and loss=482.48419189453125\n",
      "The parameter are w=tensor([12.8746], requires_grad=True), b=tensor([1.8031], requires_grad=True), and loss=482.47247314453125\n",
      "The parameter are w=tensor([12.8744], requires_grad=True), b=tensor([1.8065], requires_grad=True), and loss=482.46087646484375\n",
      "The parameter are w=tensor([12.8741], requires_grad=True), b=tensor([1.8099], requires_grad=True), and loss=482.44891357421875\n",
      "The parameter are w=tensor([12.8739], requires_grad=True), b=tensor([1.8133], requires_grad=True), and loss=482.4375\n",
      "The parameter are w=tensor([12.8737], requires_grad=True), b=tensor([1.8167], requires_grad=True), and loss=482.42608642578125\n",
      "The parameter are w=tensor([12.8734], requires_grad=True), b=tensor([1.8201], requires_grad=True), and loss=482.4143981933594\n",
      "The parameter are w=tensor([12.8732], requires_grad=True), b=tensor([1.8235], requires_grad=True), and loss=482.40240478515625\n",
      "The parameter are w=tensor([12.8730], requires_grad=True), b=tensor([1.8269], requires_grad=True), and loss=482.39080810546875\n",
      "The parameter are w=tensor([12.8727], requires_grad=True), b=tensor([1.8303], requires_grad=True), and loss=482.37945556640625\n",
      "The parameter are w=tensor([12.8725], requires_grad=True), b=tensor([1.8337], requires_grad=True), and loss=482.3677673339844\n",
      "The parameter are w=tensor([12.8723], requires_grad=True), b=tensor([1.8370], requires_grad=True), and loss=482.3563537597656\n",
      "The parameter are w=tensor([12.8720], requires_grad=True), b=tensor([1.8404], requires_grad=True), and loss=482.3447265625\n",
      "The parameter are w=tensor([12.8718], requires_grad=True), b=tensor([1.8438], requires_grad=True), and loss=482.3330993652344\n",
      "The parameter are w=tensor([12.8716], requires_grad=True), b=tensor([1.8472], requires_grad=True), and loss=482.32135009765625\n",
      "The parameter are w=tensor([12.8713], requires_grad=True), b=tensor([1.8506], requires_grad=True), and loss=482.3102111816406\n",
      "The parameter are w=tensor([12.8711], requires_grad=True), b=tensor([1.8540], requires_grad=True), and loss=482.29888916015625\n",
      "The parameter are w=tensor([12.8709], requires_grad=True), b=tensor([1.8574], requires_grad=True), and loss=482.28717041015625\n",
      "The parameter are w=tensor([12.8706], requires_grad=True), b=tensor([1.8608], requires_grad=True), and loss=482.27520751953125\n",
      "The parameter are w=tensor([12.8704], requires_grad=True), b=tensor([1.8641], requires_grad=True), and loss=482.263916015625\n",
      "The parameter are w=tensor([12.8702], requires_grad=True), b=tensor([1.8675], requires_grad=True), and loss=482.25274658203125\n",
      "The parameter are w=tensor([12.8699], requires_grad=True), b=tensor([1.8709], requires_grad=True), and loss=482.24102783203125\n",
      "The parameter are w=tensor([12.8697], requires_grad=True), b=tensor([1.8743], requires_grad=True), and loss=482.2294921875\n",
      "The parameter are w=tensor([12.8695], requires_grad=True), b=tensor([1.8777], requires_grad=True), and loss=482.21826171875\n",
      "The parameter are w=tensor([12.8692], requires_grad=True), b=tensor([1.8810], requires_grad=True), and loss=482.2064514160156\n",
      "The parameter are w=tensor([12.8690], requires_grad=True), b=tensor([1.8844], requires_grad=True), and loss=482.1949768066406\n",
      "The parameter are w=tensor([12.8688], requires_grad=True), b=tensor([1.8878], requires_grad=True), and loss=482.1837463378906\n",
      "The parameter are w=tensor([12.8685], requires_grad=True), b=tensor([1.8912], requires_grad=True), and loss=482.1720275878906\n",
      "The parameter are w=tensor([12.8683], requires_grad=True), b=tensor([1.8945], requires_grad=True), and loss=482.1610412597656\n",
      "The parameter are w=tensor([12.8681], requires_grad=True), b=tensor([1.8979], requires_grad=True), and loss=482.1495666503906\n",
      "The parameter are w=tensor([12.8679], requires_grad=True), b=tensor([1.9013], requires_grad=True), and loss=482.13818359375\n",
      "The parameter are w=tensor([12.8676], requires_grad=True), b=tensor([1.9046], requires_grad=True), and loss=482.1266174316406\n",
      "The parameter are w=tensor([12.8674], requires_grad=True), b=tensor([1.9080], requires_grad=True), and loss=482.115234375\n",
      "The parameter are w=tensor([12.8672], requires_grad=True), b=tensor([1.9114], requires_grad=True), and loss=482.10357666015625\n",
      "The parameter are w=tensor([12.8669], requires_grad=True), b=tensor([1.9147], requires_grad=True), and loss=482.0923767089844\n",
      "The parameter are w=tensor([12.8667], requires_grad=True), b=tensor([1.9181], requires_grad=True), and loss=482.0810546875\n",
      "The parameter are w=tensor([12.8665], requires_grad=True), b=tensor([1.9215], requires_grad=True), and loss=482.06982421875\n",
      "The parameter are w=tensor([12.8662], requires_grad=True), b=tensor([1.9248], requires_grad=True), and loss=482.058349609375\n",
      "The parameter are w=tensor([12.8660], requires_grad=True), b=tensor([1.9282], requires_grad=True), and loss=482.047119140625\n",
      "The parameter are w=tensor([12.8658], requires_grad=True), b=tensor([1.9316], requires_grad=True), and loss=482.035400390625\n",
      "The parameter are w=tensor([12.8655], requires_grad=True), b=tensor([1.9349], requires_grad=True), and loss=482.02392578125\n",
      "The parameter are w=tensor([12.8653], requires_grad=True), b=tensor([1.9383], requires_grad=True), and loss=482.0127868652344\n",
      "The parameter are w=tensor([12.8651], requires_grad=True), b=tensor([1.9416], requires_grad=True), and loss=482.0016174316406\n",
      "The parameter are w=tensor([12.8648], requires_grad=True), b=tensor([1.9450], requires_grad=True), and loss=481.9903259277344\n"
     ]
    }
   ],
   "source": [
    "model = RegressionModel()\n",
    "\n",
    "loss_list = []\n",
    "\n",
    "for epochs in range(100):\n",
    "    \n",
    "    loss = 0.0\n",
    "    \n",
    "    for j in range(len(x)):\n",
    "        y_p = model.forward(x[j])\n",
    "        loss += criterion(y[j], y_p)\n",
    "        \n",
    "    loss = loss / len(x)\n",
    "    loss_list.append(loss.item())\n",
    "    \n",
    "    loss.backward()\n",
    "    \n",
    "    with torch.no_grad():\n",
    "        model.update()\n",
    "        \n",
    "    model.reset_grad()\n",
    "    \n",
    "    print('The parameter are w={}, b={}, and loss={}'.format(model.w, model.b, loss.item()))"
   ]
  },
  {
   "cell_type": "code",
   "execution_count": 11,
   "id": "9f43ef1e",
   "metadata": {},
   "outputs": [
    {
     "data": {
      "image/png": "[encoded data removed]",
      "text/plain": [
       "<Figure size 640x480 with 1 Axes>"
      ]
     },
     "metadata": {},
     "output_type": "display_data"
    }
   ],
   "source": [
    "plt.plot(loss_list)\n",
    "plt.show()"
   ]
  },
  {
   "cell_type": "markdown",
   "id": "433bcb1b",
   "metadata": {},
   "source": [
    "### 4)\n",
    "Convert your program written in Qn 3 to extend nn.module in your model. Also override\n",
    "the necessary methods to fit the regression line. Illustrate the use of Dataset and DataLoader\n",
    "from torch.utils.data in your implementation. Use the SGD Optimizer torch.optim.SGD()"
   ]
  },
  {
   "cell_type": "code",
   "execution_count": 12,
   "id": "4f509d8e",
   "metadata": {},
   "outputs": [],
   "source": [
    "class DatasetLR(Dataset):\n",
    "    def __init__(self,x,y):\n",
    "        self.x = x\n",
    "        self.y = y\n",
    "    def __len__(self):\n",
    "        return len(self.x)\n",
    "    def __getitem__(self,idx):\n",
    "        return self.x[idx],self.y[idx]\n",
    "\n",
    "class RegressionModel(nn.Module):\n",
    "    def __init__(self):\n",
    "        super(RegressionModel,self).__init__()\n",
    "        self.w = nn.Parameter(torch.tensor(1.0))\n",
    "        self.b = nn.Parameter(torch.tensor(1.0))\n",
    "\n",
    "    def forward(self,x):\n",
    "        return self.w * x + self.b"
   ]
  },
  {
   "cell_type": "code",
   "execution_count": 13,
   "id": "62317fb9",
   "metadata": {},
   "outputs": [],
   "source": [
    "x = torch.tensor([5.0, 7.0, 12.0, 16.0, 20.0]).reshape(-1, 1)  \n",
    "y = torch.tensor([40.0, 120.0, 180.0, 210.0, 240.0]).reshape(-1, 1)\n",
    "dataset = DatasetLR(x,y)\n",
    "dataloader = DataLoader(dataset,batch_size=1, shuffle=True)\n",
    "model = RegressionModel()\n",
    "optimizer = optim.SGD(model.parameters(), lr=0.0001)"
   ]
  },
  {
   "cell_type": "code",
   "execution_count": 14,
   "id": "f71cfae3",
   "metadata": {},
   "outputs": [
    {
     "name": "stdout",
     "output_type": "stream",
     "text": [
      "Epoch [1/1000], Loss: 22550.96268310547\n",
      "Epoch [101/1000], Loss: 493.45023880004885\n",
      "Epoch [201/1000], Loss: 492.2321662902832\n",
      "Epoch [301/1000], Loss: 492.35529069900514\n",
      "Epoch [401/1000], Loss: 492.03549365997316\n",
      "Epoch [501/1000], Loss: 491.36351146697996\n",
      "Epoch [601/1000], Loss: 490.4607004165649\n",
      "Epoch [701/1000], Loss: 490.28466882705686\n",
      "Epoch [801/1000], Loss: 489.3037696838379\n",
      "Epoch [901/1000], Loss: 488.62605419158933\n"
     ]
    }
   ],
   "source": [
    "epochs = 1000\n",
    "loss_fn = nn.MSELoss()\n",
    "loss_list = []\n",
    "for epoch in range(epochs):\n",
    "    total_loss = 0.0\n",
    "    for xb, yb in dataloader:\n",
    "        \n",
    "        optimizer.zero_grad()\n",
    "\n",
    "        y_pred = model(xb)\n",
    "\n",
    "        loss = loss_fn(y_pred, yb)\n",
    "        total_loss += loss.item()\n",
    "\n",
    "        loss.backward()\n",
    "\n",
    "        optimizer.step()\n",
    "\n",
    "    avg_loss = total_loss / len(dataloader)\n",
    "    loss_list.append(avg_loss)\n",
    "    if epoch % 100 == 0:\n",
    "        print(f'Epoch [{epoch+1}/{epochs}], Loss: {avg_loss}')"
   ]
  },
  {
   "cell_type": "code",
   "execution_count": 15,
   "id": "a1772350",
   "metadata": {},
   "outputs": [
    {
     "name": "stdout",
     "output_type": "stream",
     "text": [
      "tensor(0.6482, requires_grad=True) tensor(0.8949, requires_grad=True)\n"
     ]
    },
    {
     "data": {
      "image/png": "[encoded data removed]",
      "text/plain": [
       "<Figure size 640x480 with 1 Axes>"
      ]
     },
     "metadata": {},
     "output_type": "display_data"
    },
    {
     "name": "stdout",
     "output_type": "stream",
     "text": [
      "tensor([[ 67.1272],\n",
      "        [ 92.6033],\n",
      "        [156.2937],\n",
      "        [207.2460],\n",
      "        [258.1983]])\n"
     ]
    }
   ],
   "source": [
    "print(w,b)\n",
    "plt.plot(loss_list)\n",
    "plt.xlabel('Epochs')\n",
    "plt.ylabel('Loss')\n",
    "plt.title('Loss Curve')\n",
    "plt.show()\n",
    "\n",
    "with torch.no_grad():\n",
    "    pred = model(x)\n",
    "    print(pred)"
   ]
  },
  {
   "cell_type": "markdown",
   "id": "9b3f1dd1",
   "metadata": {},
   "source": [
    "### 5)\n",
    "Use PyTorch’s nn.Linear() in your implementation to perform linear regression for the data\n",
    "provided in Qn. 1. Also plot the graph."
   ]
  },
  {
   "cell_type": "code",
   "execution_count": 16,
   "id": "0ea3e648",
   "metadata": {},
   "outputs": [],
   "source": [
    "class DatasetLR(Dataset):\n",
    "    def __init__(self,x,y):\n",
    "        self.x = x\n",
    "        self.y = y\n",
    "    def __len__(self):\n",
    "        return len(self.x)\n",
    "    def __getitem__(self,idx):\n",
    "        return self.x[idx],self.y[idx]\n",
    "\n",
    "\n",
    "x = torch.tensor([12.4, 14.3, 14.5, 14.9, 16.1, 16.9, 16.5, 15.4, 17.0, 17.9, 18.8, 20.3, 22.4, 19.4, 15.5, 16.7, 17.3, 18.4, 19.2, 17.4, 19.5, 19.7, 21.2]).reshape(-1, 1)  \n",
    "y = torch.tensor([11.2, 12.5, 12.7, 13.1, 14.1, 14.8, 14.4, 13.4, 14.9, 15.6, 16.4, 17.7, 19.6, 16.9, 4.0, 14.6, 15.1, 16.1, 16.8, 15.2, 17.0, 17.2, 18.6]).reshape(-1, 1)  \n",
    "\n"
   ]
  },
  {
   "cell_type": "code",
   "execution_count": 17,
   "id": "9bb8a06e",
   "metadata": {},
   "outputs": [],
   "source": [
    "dataset = DatasetLR(x,y)\n",
    "dataloader = DataLoader(dataset,batch_size=1, shuffle=True)\n",
    "model = nn.Linear(in_features=1, out_features=1)\n",
    "optimizer = optim.SGD(model.parameters(), lr=0.0001)"
   ]
  },
  {
   "cell_type": "code",
   "execution_count": 18,
   "id": "1b76de2b",
   "metadata": {},
   "outputs": [
    {
     "name": "stdout",
     "output_type": "stream",
     "text": [
      "Epoch [1/100], Loss: 122.91797629646634\n",
      "Epoch [11/100], Loss: 4.136085044410404\n",
      "Epoch [21/100], Loss: 4.131171996016866\n",
      "Epoch [31/100], Loss: 4.153265607674889\n",
      "Epoch [41/100], Loss: 4.107525439183835\n",
      "Epoch [51/100], Loss: 4.111407814889073\n",
      "Epoch [61/100], Loss: 4.083541399390292\n",
      "Epoch [71/100], Loss: 4.137111770272579\n",
      "Epoch [81/100], Loss: 4.129965258741994\n",
      "Epoch [91/100], Loss: 4.1194849902885435\n"
     ]
    }
   ],
   "source": [
    "epochs = 100\n",
    "loss_fn = nn.MSELoss()\n",
    "loss_list = []\n",
    "for epoch in range(epochs):\n",
    "    total_loss = 0.0\n",
    "    for xb, yb in dataloader:\n",
    "        \n",
    "        optimizer.zero_grad()\n",
    "\n",
    "        y_pred = model(xb)\n",
    "\n",
    "        loss = loss_fn(y_pred, yb)\n",
    "        total_loss += loss.item()\n",
    "\n",
    "        loss.backward()\n",
    "\n",
    "        optimizer.step()\n",
    "\n",
    "    avg_loss = total_loss / len(dataloader)\n",
    "    loss_list.append(avg_loss)\n",
    "    if epoch % 10 == 0:\n",
    "        print(f'Epoch [{epoch+1}/{epochs}], Loss: {avg_loss}')"
   ]
  },
  {
   "cell_type": "code",
   "execution_count": 19,
   "id": "3b02c47e",
   "metadata": {},
   "outputs": [
    {
     "name": "stdout",
     "output_type": "stream",
     "text": [
      "tensor(0.6482, requires_grad=True) tensor(0.8949, requires_grad=True)\n"
     ]
    },
    {
     "data": {
      "image/png": "[encoded data removed]",
      "text/plain": [
       "<Figure size 640x480 with 1 Axes>"
      ]
     },
     "metadata": {},
     "output_type": "display_data"
    }
   ],
   "source": [
    "print(w,b)\n",
    "plt.plot(loss_list)\n",
    "plt.xlabel('Epochs')\n",
    "plt.ylabel('Loss')\n",
    "plt.title('Loss Curve')\n",
    "plt.show()"
   ]
  },
  {
   "cell_type": "markdown",
   "id": "0c8bb303",
   "metadata": {},
   "source": [
    "### 6)\n",
    "Implement multiple linear regression for the data provided below\n",
    "\n",
    "Verify your answer for the data point X1=3, X2=2."
   ]
  },
  {
   "cell_type": "code",
   "execution_count": 20,
   "id": "ac6e6f58",
   "metadata": {},
   "outputs": [],
   "source": [
    "x1 = torch.tensor([3.0,4.0,5.0,6.0,2.0])\n",
    "x2 = torch.tensor([8.0,5.0,7.0,3.0,1.0])\n",
    "y = torch.tensor([-3.7,3.5,2.5,11.5,5.7])\n",
    "w1 = torch.tensor(1.0, requires_grad = True)\n",
    "w2 = torch.tensor(1.0, requires_grad = True)\n",
    "b = torch.tensor(1.0,requires_grad = True)"
   ]
  },
  {
   "cell_type": "code",
   "execution_count": 21,
   "id": "6a575ed1",
   "metadata": {},
   "outputs": [
    {
     "name": "stdout",
     "output_type": "stream",
     "text": [
      " Epoch 1 , Loss 80.82600402832031\n",
      " Epoch 101 , Loss 7.284582614898682\n",
      " Epoch 201 , Loss 2.1840436458587646\n",
      " Epoch 301 , Loss 0.7666763663291931\n",
      " Epoch 401 , Loss 0.3688342869281769\n",
      " Epoch 501 , Loss 0.2533441185951233\n",
      " Epoch 601 , Loss 0.21618279814720154\n",
      " Epoch 701 , Loss 0.20087821781635284\n",
      " Epoch 801 , Loss 0.19179639220237732\n",
      " Epoch 901 , Loss 0.18460385501384735\n"
     ]
    }
   ],
   "source": [
    "learning_rate = 0.001\n",
    "epochs = 1000\n",
    "losses = []\n",
    "for epoch in range(epochs):\n",
    "    y_pred = w1 * x1 + w2 * x2 + b\n",
    "    loss = torch.mean((y_pred - y) ** 2)\n",
    "    losses.append(loss.item())\n",
    "    loss.backward()\n",
    "    with torch.no_grad():\n",
    "        w1 -= learning_rate * w1.grad\n",
    "        w2 -= learning_rate * w2.grad\n",
    "        b -= learning_rate * b.grad\n",
    "        w1.grad.zero_()\n",
    "        w2.grad.zero_()\n",
    "        b.grad.zero_()\n",
    "\n",
    "    if epoch % 100 == 0:\n",
    "        print(f\" Epoch {epoch+1} , Loss {loss.item()}\")"
   ]
  },
  {
   "cell_type": "code",
   "execution_count": 22,
   "id": "9719a44d",
   "metadata": {},
   "outputs": [],
   "source": [
    "x = torch.tensor([1.0, 5.0, 10.0, 10.0, 25.0, 50.0, 70.0, 75.0, 100.0]).view(-1, 1)  # Reshape to (N, 1)\n",
    "y = torch.tensor([0, 0, 0, 0, 0, 1, 1, 1, 1]).view(-1, 1).float()  # Convert to float for BCE\n",
    "\n",
    "class LogisticRegressionDataset(Dataset):\n",
    "    def __init__(self, x, y):\n",
    "        self.x = x\n",
    "        self.y = y\n",
    "    \n",
    "    def __len__(self):\n",
    "        return len(self.x)\n",
    "    \n",
    "    def __getitem__(self, idx):\n",
    "        return self.x[idx], self.y[idx]\n",
    "\n",
    "class LogisticRegressionModel(nn.Module):\n",
    "    def __init__(self):\n",
    "        super(LogisticRegressionModel, self).__init__()\n",
    "        self.linear = nn.Linear(1, 1)\n",
    "    \n",
    "    def forward(self, x):\n",
    "        return torch.sigmoid(self.linear(x))"
   ]
  },
  {
   "cell_type": "code",
   "execution_count": 23,
   "id": "a24fadda",
   "metadata": {},
   "outputs": [
    {
     "name": "stdout",
     "output_type": "stream",
     "text": [
      "Epoch 100/1000, Loss: 2.25710036357259\n",
      "Epoch 200/1000, Loss: 1.8372104950249195\n",
      "Epoch 300/1000, Loss: 0.33136491167412413\n",
      "Epoch 400/1000, Loss: 0.36919932471321065\n",
      "Epoch 500/1000, Loss: 0.23258740310039785\n",
      "Epoch 600/1000, Loss: 0.08861648052432732\n",
      "Epoch 700/1000, Loss: 0.07755564398879262\n",
      "Epoch 800/1000, Loss: 0.084885633370517\n",
      "Epoch 900/1000, Loss: 0.07087067283120835\n",
      "Epoch 1000/1000, Loss: 0.054709991073953766\n"
     ]
    }
   ],
   "source": [
    "dataset = LogisticRegressionDataset(x, y)\n",
    "dataloader = DataLoader(dataset, batch_size=1, shuffle=True)\n",
    "\n",
    "model = LogisticRegressionModel()\n",
    "\n",
    "criterion = nn.BCELoss()\n",
    "\n",
    "optimizer = optim.SGD(model.parameters(), lr=0.01)\n",
    "\n",
    "epochs = 1000\n",
    "loss_list = []\n",
    "\n",
    "for epoch in range(epochs):\n",
    "    total_loss = 0.0\n",
    "    \n",
    "    for batch_x, batch_y in dataloader:\n",
    "        optimizer.zero_grad()\n",
    "        \n",
    "        y_pred = model(batch_x)\n",
    "        \n",
    "        loss = criterion(y_pred, batch_y)\n",
    "        total_loss += loss.item()\n",
    "        \n",
    "        loss.backward()\n",
    "        \n",
    "        optimizer.step()\n",
    "    \n",
    "    avg_loss = total_loss / len(dataloader)\n",
    "    loss_list.append(avg_loss)\n",
    "    \n",
    "    if (epoch + 1) % 100 == 0:\n",
    "        print(f'Epoch {epoch+1}/{epochs}, Loss: {avg_loss}')"
   ]
  },
  {
   "cell_type": "code",
   "execution_count": 24,
   "id": "98c8a4f1",
   "metadata": {},
   "outputs": [
    {
     "data": {
      "image/png": "[encoded data removed]",
      "text/plain": [
       "<Figure size 640x480 with 1 Axes>"
      ]
     },
     "metadata": {},
     "output_type": "display_data"
    },
    {
     "name": "stdout",
     "output_type": "stream",
     "text": [
      "Predictions (Probabilities):\n",
      "tensor([[8.8259e-04],\n",
      "        [1.8202e-03],\n",
      "        [4.4919e-03],\n",
      "        [4.4919e-03],\n",
      "        [6.3983e-02],\n",
      "        [8.6376e-01],\n",
      "        [9.9581e-01],\n",
      "        [9.9830e-01],\n",
      "        [9.9998e-01]])\n",
      "\n",
      "Binary Predictions (0 or 1):\n",
      "tensor([[0.],\n",
      "        [0.],\n",
      "        [0.],\n",
      "        [0.],\n",
      "        [0.],\n",
      "        [1.],\n",
      "        [1.],\n",
      "        [1.],\n",
      "        [1.]])\n"
     ]
    }
   ],
   "source": [
    "plt.plot(loss_list)\n",
    "plt.xlabel('Epoch')\n",
    "plt.ylabel('Loss')\n",
    "plt.title('Loss over Epochs for Logistic Regression')\n",
    "plt.show()\n",
    "\n",
    "with torch.no_grad():\n",
    "    model.eval()\n",
    "    predictions = model(x)\n",
    "    print(\"Predictions (Probabilities):\")\n",
    "    print(predictions)\n",
    "\n",
    "    binary_predictions = (predictions > 0.5).float()\n",
    "    print(\"\\nBinary Predictions (0 or 1):\")\n",
    "    print(binary_predictions)"
   ]
  },
  {
   "cell_type": "code",
   "execution_count": null,
   "id": "144f717f",
   "metadata": {},
   "outputs": [],
   "source": []
  }
 ],
 "metadata": {
  "kernelspec": {
   "display_name": "Python (dl_env)",
   "language": "python",
   "name": "dl_env"
  },
  "language_info": {
   "codemirror_mode": {
    "name": "ipython",
    "version": 3
   },
   "file_extension": ".py",
   "mimetype": "text/x-python",
   "name": "python",
   "nbconvert_exporter": "python",
   "pygments_lexer": "ipython3",
   "version": "3.12.3"
  }
 },
 "nbformat": 4,
 "nbformat_minor": 5
}
