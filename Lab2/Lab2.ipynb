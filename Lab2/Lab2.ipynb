{
 "cells": [
  {
   "cell_type": "code",
   "execution_count": 13,
   "id": "4ca93ade",
   "metadata": {},
   "outputs": [],
   "source": [
    "import torch\n",
    "import numpy as np\n",
    "import math"
   ]
  },
  {
   "cell_type": "code",
   "execution_count": 14,
   "id": "2e5782c4",
   "metadata": {},
   "outputs": [],
   "source": [
    "x = torch.tensor(3.5,requires_grad = True)\n",
    "y = x*x\n",
    "z = 2*y + 3"
   ]
  },
  {
   "cell_type": "code",
   "execution_count": 15,
   "id": "cb040f47",
   "metadata": {},
   "outputs": [],
   "source": [
    "z.backward()"
   ]
  },
  {
   "cell_type": "code",
   "execution_count": 16,
   "id": "e29c339a",
   "metadata": {},
   "outputs": [
    {
     "name": "stdout",
     "output_type": "stream",
     "text": [
      "Gradient at x = 3.5:  tensor(14.)\n"
     ]
    }
   ],
   "source": [
    "print(\"Gradient at x = 3.5: \", x.grad)"
   ]
  },
  {
   "cell_type": "code",
   "execution_count": 17,
   "id": "0cb5fb34",
   "metadata": {},
   "outputs": [
    {
     "name": "stdout",
     "output_type": "stream",
     "text": [
      "Gradient dz/da: 34.0\n",
      "Analytical Gradient dz/da: 34.0\n"
     ]
    }
   ],
   "source": [
    "#Q1\n",
    "a = torch.tensor(1.0,requires_grad=True)\n",
    "b = torch.tensor(2.0,requires_grad=True)\n",
    "x = 2 * a + 3 * b\n",
    "y = 5 * a**2 + 3 * b**3\n",
    "z = 2 * x + 3 * y\n",
    "z.backward()\n",
    "print(\"Gradient dz/da:\", a.grad.item())\n",
    "\n",
    "analytical_gradient = 4 + 30 * a.item()\n",
    "print(\"Analytical Gradient dz/da:\", analytical_gradient)"
   ]
  },
  {
   "cell_type": "code",
   "execution_count": 18,
   "id": "80c613c4",
   "metadata": {},
   "outputs": [
    {
     "name": "stdout",
     "output_type": "stream",
     "text": [
      "gradient w is  1.0\n",
      "Analytical Gradient dw: 1.0\n"
     ]
    }
   ],
   "source": [
    "#Q2\n",
    "x = torch.tensor(1.0,requires_grad=True)\n",
    "w = torch.tensor(2.0,requires_grad=True)\n",
    "b = torch.tensor(3.0,requires_grad=True)\n",
    "u = w*x\n",
    "v = b + u\n",
    "a = torch.maximum(torch.tensor(0.0), v) \n",
    "a.backward()\n",
    "print(\"gradient w is \",w.grad.item())\n",
    "analytical_gradient = x if v.item() > 0 else 0\n",
    "print(\"Analytical Gradient dw:\", analytical_gradient.item())"
   ]
  },
  {
   "cell_type": "code",
   "execution_count": 19,
   "id": "79225fa7",
   "metadata": {},
   "outputs": [
    {
     "name": "stdout",
     "output_type": "stream",
     "text": [
      "Gradient da/dw (PyTorch): 0.0066480329260230064\n",
      "Analytical Gradient da/dw: 0.0066480329260230064\n"
     ]
    }
   ],
   "source": [
    "#Q3\n",
    "x = torch.tensor(1.0,requires_grad=True)\n",
    "w = torch.tensor(2.0,requires_grad=True)\n",
    "b = torch.tensor(3.0,requires_grad=True)\n",
    "u = w*x\n",
    "v = b + u\n",
    "a = torch.sigmoid(v)\n",
    "a.backward()\n",
    "\n",
    "print(\"Gradient da/dw (PyTorch):\", w.grad.item())\n",
    "\n",
    "# Analytical gradient\n",
    "sigmoid_v = torch.sigmoid(v)\n",
    "analytical_gradient = sigmoid_v * (1 - sigmoid_v) * x\n",
    "print(\"Analytical Gradient da/dw:\", analytical_gradient.item())"
   ]
  },
  {
   "cell_type": "code",
   "execution_count": 20,
   "id": "57c7c1d9",
   "metadata": {},
   "outputs": [
    {
     "name": "stdout",
     "output_type": "stream",
     "text": [
      "Gradient  -0.09744400531053543\n",
      "Analytical Gradient df/dx: -0.09744400531053543\n"
     ]
    }
   ],
   "source": [
    "#Q4\n",
    "x = torch.tensor(1.0, requires_grad=True)\n",
    "f = torch.exp((-1 * x**2) - ( 2 *x ) - torch.sin(x))\n",
    "f.backward()\n",
    "print(\"Gradient \",x.grad.item())\n",
    "analytical_grad = torch.exp(-x**2 - 2*x - torch.sin(x)) * (-2*x - 2 - torch.cos(x))\n",
    "print(\"Analytical Gradient df/dx:\", analytical_grad.item())"
   ]
  },
  {
   "cell_type": "code",
   "execution_count": 21,
   "id": "489e5088",
   "metadata": {},
   "outputs": [
    {
     "name": "stdout",
     "output_type": "stream",
     "text": [
      "gradient  326.0\n",
      "Analytical Gradient: 326.0\n"
     ]
    }
   ],
   "source": [
    "#Q5\n",
    "x = torch.tensor(2.0,requires_grad=True)\n",
    "y = 8*x**4+3*x**3+7*x**2+6*x+3\n",
    "y.backward()\n",
    "print(\"gradient \", x.grad.item())\n",
    "analytical_gradient = 32*x**3 + 9*x**2 + 14*x + 6\n",
    "print(\"Analytical Gradient:\", analytical_gradient.item())"
   ]
  },
  {
   "cell_type": "code",
   "execution_count": 22,
   "id": "6221b4d3",
   "metadata": {},
   "outputs": [
    {
     "name": "stdout",
     "output_type": "stream",
     "text": [
      "Gradient 0.026604030281305313\n",
      "Analytical Gradient df/dy: 0.02660400979220867\n"
     ]
    }
   ],
   "source": [
    "#Q6\n",
    "x = torch.tensor(1.0, requires_grad=True)\n",
    "y = torch.tensor(2.0, requires_grad=True)\n",
    "z = torch.tensor(3.0, requires_grad=True)\n",
    "a = 2 * x * z\n",
    "b = torch.sin(y)\n",
    "c = a / b\n",
    "d = 1 + c\n",
    "e = torch.log(d)\n",
    "f = torch.tanh(e)\n",
    "f.backward()\n",
    "print(\"Gradient\",y.grad.item())\n",
    "sech_e = torch.cosh(e) ** -2\n",
    "analytical_gradient = sech_e * (1 / d) * (-2 * x * z * torch.cos(y) / (torch.sin(y) ** 2))\n",
    "\n",
    "print(\"Analytical Gradient df/dy:\", analytical_gradient.item())"
   ]
  },
  {
   "cell_type": "code",
   "execution_count": null,
   "id": "4aade0ad",
   "metadata": {},
   "outputs": [],
   "source": []
  },
  {
   "cell_type": "code",
   "execution_count": null,
   "id": "e1cb1a19",
   "metadata": {},
   "outputs": [],
   "source": []
  }
 ],
 "metadata": {
  "kernelspec": {
   "display_name": "Python (dl_env)",
   "language": "python",
   "name": "dl_env"
  },
  "language_info": {
   "codemirror_mode": {
    "name": "ipython",
    "version": 3
   },
   "file_extension": ".py",
   "mimetype": "text/x-python",
   "name": "python",
   "nbconvert_exporter": "python",
   "pygments_lexer": "ipython3",
   "version": "3.12.3"
  }
 },
 "nbformat": 4,
 "nbformat_minor": 5
}
