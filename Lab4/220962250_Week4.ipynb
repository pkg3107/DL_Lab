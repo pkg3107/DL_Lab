{
 "cells": [
  {
   "cell_type": "markdown",
   "id": "0e7fb2dc",
   "metadata": {},
   "source": [
    "### 1)"
   ]
  },
  {
   "cell_type": "code",
   "execution_count": 1,
   "id": "a64b3bf9",
   "metadata": {},
   "outputs": [],
   "source": [
    "import torch\n",
    "import matplotlib.pyplot as plt\n",
    "from torch.utils.data import Dataset, DataLoader\n",
    "import torch.nn as nn\n",
    "import numpy as np"
   ]
  },
  {
   "cell_type": "code",
   "execution_count": 2,
   "id": "51d26f3a",
   "metadata": {},
   "outputs": [
    {
     "data": {
      "text/plain": [
       "<torch._C.Generator at 0x7b9ab21cc7f0>"
      ]
     },
     "execution_count": 2,
     "metadata": {},
     "output_type": "execute_result"
    }
   ],
   "source": [
    "loss_list = []\n",
    "torch.manual_seed(42)"
   ]
  },
  {
   "cell_type": "code",
   "execution_count": 3,
   "id": "15a102e7",
   "metadata": {},
   "outputs": [],
   "source": [
    "X = torch.tensor ([[0,0], [0,1], [1,0], [1,1]], dtype = torch.float32)\n",
    "Y = torch.tensor ([0,1,1,0], dtype = torch.float32)"
   ]
  },
  {
   "cell_type": "code",
   "execution_count": 4,
   "id": "c6067825",
   "metadata": {},
   "outputs": [],
   "source": [
    "class XORModel(nn.Module):\n",
    "    def __init__(self):\n",
    "        super(XORModel, self).__init__()\n",
    "        self.w = torch.nn.Parameter(torch.rand([1]))\n",
    "        self.b = torch.nn.Parameter(torch.rand([1]))\n",
    "        \n",
    "        self.linear1 = nn.Linear(2,2,bias=True)\n",
    "        self.activation1 = nn.Sigmoid()\n",
    "        self.linear2 = nn.Linear(2,1,bias=True)\n",
    "        self.activation2 = nn.Sigmoid()\n",
    "        \n",
    "    def forward(self, x):\n",
    "        x = self.linear1(x)\n",
    "        x = self.activation1(x)\n",
    "        x = self.linear2(x)\n",
    "        x = self.activation2(x)\n",
    "        return x"
   ]
  },
  {
   "cell_type": "code",
   "execution_count": 5,
   "id": "c68e9d88",
   "metadata": {},
   "outputs": [],
   "source": [
    "class MyDataset(Dataset):\n",
    "    def __init__(self, X, Y):\n",
    "        self.X = X\n",
    "        self.Y = Y\n",
    "        \n",
    "    def __len__(self):\n",
    "        return len(self.X)\n",
    "    \n",
    "    def __getitem__(self, idx):\n",
    "        return self.X[idx].to(device), self.Y[idx].to(device)"
   ]
  },
  {
   "cell_type": "code",
   "execution_count": 6,
   "id": "c87fd070",
   "metadata": {},
   "outputs": [
    {
     "name": "stdout",
     "output_type": "stream",
     "text": [
      "XORModel(\n",
      "  (linear1): Linear(in_features=2, out_features=2, bias=True)\n",
      "  (activation1): Sigmoid()\n",
      "  (linear2): Linear(in_features=2, out_features=1, bias=True)\n",
      "  (activation2): Sigmoid()\n",
      ")\n"
     ]
    }
   ],
   "source": [
    "full_dataset = MyDataset(X, Y)\n",
    "batch_size = 1\n",
    "\n",
    "train_data_loader = DataLoader(full_dataset, batch_size=batch_size, shuffle=True)\n",
    "\n",
    "device = torch.device(\"cuda\" if torch.cuda.is_available() else \"cpu\")\n",
    "\n",
    "model = XORModel().to(device)\n",
    "print(model)\n",
    "\n",
    "loss_fn = torch.nn.MSELoss()\n",
    "\n",
    "optimizer = torch.optim.SGD(model.parameters(), lr=0.3)"
   ]
  },
  {
   "cell_type": "code",
   "execution_count": 7,
   "id": "ee02995d",
   "metadata": {},
   "outputs": [
    {
     "name": "stdout",
     "output_type": "stream",
     "text": [
      "Epoch 0/10000, Loss: 0.2817495223134756\n",
      "Epoch 1000/10000, Loss: 0.01314522628672421\n",
      "Epoch 2000/10000, Loss: 0.0021000950946472585\n",
      "Epoch 3000/10000, Loss: 0.0010888198594329879\n",
      "Epoch 4000/10000, Loss: 0.0007269948837347329\n",
      "Epoch 5000/10000, Loss: 0.0005431614263216034\n",
      "Epoch 6000/10000, Loss: 0.0004324839392211288\n",
      "Epoch 7000/10000, Loss: 0.0003587401588447392\n",
      "Epoch 8000/10000, Loss: 0.00030617147058364935\n",
      "Epoch 9000/10000, Loss: 0.00026684647673391737\n"
     ]
    }
   ],
   "source": [
    "def train_one_epoch(epoch_index):\n",
    "    totalloss = 0.\n",
    "    \n",
    "    for i, data in enumerate(train_data_loader):\n",
    "        inputs, labels = data\n",
    "        optimizer.zero_grad()\n",
    "        outputs = model(inputs)\n",
    "        \n",
    "        loss = loss_fn(outputs.flatten(), labels)\n",
    "        loss.backward()\n",
    "        \n",
    "        optimizer.step()\n",
    "        totalloss += loss.item()\n",
    "        \n",
    "    return totalloss/(len(train_data_loader) * batch_size)\n",
    "\n",
    "EPOCHS = 10000\n",
    "for epoch in range(EPOCHS):\n",
    "    \n",
    "    model.train(True)\n",
    "    avg_loss = train_one_epoch(epoch)\n",
    "    loss_list.append(avg_loss)\n",
    "    \n",
    "    if epoch%1000 ==0:\n",
    "        print(f'Epoch {epoch}/{EPOCHS}, Loss: {avg_loss}')"
   ]
  },
  {
   "cell_type": "code",
   "execution_count": 8,
   "id": "82495633",
   "metadata": {},
   "outputs": [
    {
     "name": "stdout",
     "output_type": "stream",
     "text": [
      "('w', Parameter containing:\n",
      "tensor([0.8823], device='cuda:0', requires_grad=True))\n",
      "('b', Parameter containing:\n",
      "tensor([0.9150], device='cuda:0', requires_grad=True))\n",
      "('linear1.weight', Parameter containing:\n",
      "tensor([[-6.2691,  6.1690],\n",
      "        [-5.8448,  6.0547]], device='cuda:0', requires_grad=True))\n",
      "('linear1.bias', Parameter containing:\n",
      "tensor([-3.3457,  2.9287], device='cuda:0', requires_grad=True))\n",
      "('linear2.weight', Parameter containing:\n",
      "tensor([[ 9.7374, -9.4757]], device='cuda:0', requires_grad=True))\n",
      "('linear2.bias', Parameter containing:\n",
      "tensor([4.5067], device='cuda:0', requires_grad=True))\n",
      "The input is = tensor([0., 1.], device='cuda:0')\n",
      "Output y predicted = tensor([0.9856], device='cuda:0', grad_fn=<SigmoidBackward0>)\n"
     ]
    },
    {
     "data": {
      "image/png": "[encoded data removed]",
      "text/plain": [
       "<Figure size 640x480 with 1 Axes>"
      ]
     },
     "metadata": {},
     "output_type": "display_data"
    }
   ],
   "source": [
    "for param in model.named_parameters():\n",
    "    print(param)\n",
    "    \n",
    "input = torch.tensor([0,1], dtype = torch.float32).to(device)\n",
    "model.eval()\n",
    "print('The input is = {}'.format(input))\n",
    "print('Output y predicted = {}'.format(model(input)))\n",
    "\n",
    "plt.plot(loss_list)\n",
    "plt.show()"
   ]
  },
  {
   "cell_type": "markdown",
   "id": "9dd608c0",
   "metadata": {},
   "source": [
    "### 2) "
   ]
  },
  {
   "cell_type": "code",
   "execution_count": 17,
   "id": "728d7fc7",
   "metadata": {},
   "outputs": [],
   "source": [
    "loss_list = []\n",
    "\n",
    "class XORModel(nn.Module):\n",
    "    def __init__(self):\n",
    "        super(XORModel, self).__init__()\n",
    "        self.w = torch.nn.Parameter(torch.rand([1]))\n",
    "        self.b = torch.nn.Parameter(torch.rand([1]))\n",
    "        \n",
    "        self.linear1 = nn.Linear(2,2,bias=True)\n",
    "        self.activation1 = nn.ReLU()\n",
    "        self.linear2 = nn.Linear(2,1,bias=True)\n",
    "        self.activation2 = nn.Sigmoid()\n",
    "        \n",
    "    def forward(self, x):\n",
    "        x = self.linear1(x)\n",
    "        x = self.activation1(x)\n",
    "        x = self.linear2(x)\n",
    "        x = self.activation2(x)\n",
    "        return x"
   ]
  },
  {
   "cell_type": "code",
   "execution_count": 18,
   "id": "d319a641",
   "metadata": {},
   "outputs": [
    {
     "name": "stdout",
     "output_type": "stream",
     "text": [
      "XORModel(\n",
      "  (linear1): Linear(in_features=2, out_features=2, bias=True)\n",
      "  (activation1): ReLU()\n",
      "  (linear2): Linear(in_features=2, out_features=1, bias=True)\n",
      "  (activation2): Sigmoid()\n",
      ")\n"
     ]
    }
   ],
   "source": [
    "full_dataset = MyDataset(X, Y)\n",
    "batch_size = 1\n",
    "\n",
    "train_data_loader = DataLoader(full_dataset, batch_size=batch_size, shuffle=True)\n",
    "\n",
    "device = torch.device(\"cuda\" if torch.cuda.is_available() else \"cpu\")\n",
    "\n",
    "model = XORModel().to(device)\n",
    "print(model)\n",
    "\n",
    "loss_fn = torch.nn.MSELoss()\n",
    "\n",
    "optimizer = torch.optim.SGD(model.parameters(), lr=0.05)"
   ]
  },
  {
   "cell_type": "code",
   "execution_count": 19,
   "id": "77b6a6cb",
   "metadata": {},
   "outputs": [
    {
     "name": "stdout",
     "output_type": "stream",
     "text": [
      "Epoch 0/10000, Loss: 0.25162649154663086\n",
      "Epoch 1000/10000, Loss: 0.025374165852554142\n",
      "Epoch 2000/10000, Loss: 0.0029860046633984894\n",
      "Epoch 3000/10000, Loss: 0.0014750428963452578\n",
      "Epoch 4000/10000, Loss: 0.0009558233432471752\n",
      "Epoch 5000/10000, Loss: 0.0006997055243118666\n",
      "Epoch 6000/10000, Loss: 0.0005483767236000858\n",
      "Epoch 7000/10000, Loss: 0.00044939150029676966\n",
      "Epoch 8000/10000, Loss: 0.0003797751014644746\n",
      "Epoch 9000/10000, Loss: 0.0003282072866568342\n"
     ]
    }
   ],
   "source": [
    "def train_one_epoch(epoch_index):\n",
    "    totalloss = 0.\n",
    "    \n",
    "    for i, data in enumerate(train_data_loader):\n",
    "        inputs, labels = data\n",
    "        optimizer.zero_grad()\n",
    "        outputs = model(inputs)\n",
    "        \n",
    "        loss = loss_fn(outputs.flatten(), labels)\n",
    "        loss.backward()\n",
    "        \n",
    "        optimizer.step()\n",
    "        totalloss += loss.item()\n",
    "        \n",
    "    return totalloss/(len(train_data_loader) * batch_size)\n",
    "\n",
    "EPOCHS = 10000\n",
    "for epoch in range(EPOCHS):\n",
    "    \n",
    "    model.train(True)\n",
    "    avg_loss = train_one_epoch(epoch)\n",
    "    loss_list.append(avg_loss)\n",
    "    \n",
    "    if epoch%1000 ==0:\n",
    "        print(f'Epoch {epoch}/{EPOCHS}, Loss: {avg_loss}')"
   ]
  },
  {
   "cell_type": "code",
   "execution_count": 20,
   "id": "98f989ce",
   "metadata": {},
   "outputs": [
    {
     "name": "stdout",
     "output_type": "stream",
     "text": [
      "('w', Parameter containing:\n",
      "tensor([0.7528], device='cuda:0', requires_grad=True))\n",
      "('b', Parameter containing:\n",
      "tensor([0.9529], device='cuda:0', requires_grad=True))\n",
      "('linear1.weight', Parameter containing:\n",
      "tensor([[ 2.1958,  2.1958],\n",
      "        [-2.1881, -2.1881]], device='cuda:0', requires_grad=True))\n",
      "('linear1.bias', Parameter containing:\n",
      "tensor([-2.1959,  2.1881], device='cuda:0', requires_grad=True))\n",
      "('linear2.weight', Parameter containing:\n",
      "tensor([[-3.7753, -3.7886]], device='cuda:0', requires_grad=True))\n",
      "('linear2.bias', Parameter containing:\n",
      "tensor([3.8383], device='cuda:0', requires_grad=True))\n",
      "The input is = tensor([0., 1.], device='cuda:0')\n",
      "Output y predicted = tensor([0.9789], device='cuda:0', grad_fn=<SigmoidBackward0>)\n"
     ]
    },
    {
     "data": {
      "image/png": "[encoded data removed]",
      "text/plain": [
       "<Figure size 640x480 with 1 Axes>"
      ]
     },
     "metadata": {},
     "output_type": "display_data"
    }
   ],
   "source": [
    "for param in model.named_parameters():\n",
    "    print(param)\n",
    "    \n",
    "input = torch.tensor([0,1], dtype = torch.float32).to(device)\n",
    "model.eval()\n",
    "print('The input is = {}'.format(input))\n",
    "print('Output y predicted = {}'.format(model(input)))\n",
    "\n",
    "plt.plot(loss_list)\n",
    "plt.show()"
   ]
  },
  {
   "cell_type": "markdown",
   "id": "215474b7",
   "metadata": {},
   "source": [
    "### 4)"
   ]
  },
  {
   "cell_type": "code",
   "execution_count": 3,
   "id": "1644284f",
   "metadata": {},
   "outputs": [],
   "source": [
    "import torch\n",
    "import torch.nn as nn\n",
    "import torch.optim as optim\n",
    "import torchvision\n",
    "import torchvision.transforms as transforms\n",
    "import matplotlib.pyplot as plt\n",
    "import seaborn as sns\n",
    "import numpy as np\n",
    "from sklearn.metrics import confusion_matrix\n",
    "from torch.utils.data import DataLoader\n",
    "\n",
    "\n",
    "transform = transforms.Compose([transforms.ToTensor(), transforms.Normalize((0.5,), (0.5,))])\n",
    "\n",
    "trainset = torchvision.datasets.MNIST(root='./data', train=True, download=True, transform=transform)\n",
    "testset = torchvision.datasets.MNIST(root='./data', train=False, download=True, transform=transform)\n",
    "\n",
    "trainloader = DataLoader(trainset, batch_size=64, shuffle=True)\n",
    "testloader = DataLoader(testset, batch_size=64, shuffle=False)"
   ]
  },
  {
   "cell_type": "code",
   "execution_count": 4,
   "id": "bcaddf68",
   "metadata": {},
   "outputs": [
    {
     "name": "stdout",
     "output_type": "stream",
     "text": [
      "Epoch [1/10], Loss: 0.3947\n",
      "Epoch [2/10], Loss: 0.1918\n",
      "Epoch [3/10], Loss: 0.1429\n",
      "Epoch [4/10], Loss: 0.1108\n",
      "Epoch [5/10], Loss: 0.0938\n",
      "Epoch [6/10], Loss: 0.0840\n",
      "Epoch [7/10], Loss: 0.0730\n",
      "Epoch [8/10], Loss: 0.0644\n",
      "Epoch [9/10], Loss: 0.0606\n",
      "Epoch [10/10], Loss: 0.0538\n"
     ]
    }
   ],
   "source": [
    "class FeedForwardNN(nn.Module):\n",
    "    def __init__(self):\n",
    "        super(FeedForwardNN, self).__init__()\n",
    "        self.fc1 = nn.Linear(28*28, 128)  # First hidden layer\n",
    "        self.fc2 = nn.Linear(128, 64)     # Second hidden layer\n",
    "        self.fc3 = nn.Linear(64, 10)      # Output layer\n",
    "\n",
    "    def forward(self, x):\n",
    "        x = x.view(-1, 28*28)  # Flatten the input image\n",
    "        x = torch.relu(self.fc1(x))\n",
    "        x = torch.relu(self.fc2(x))\n",
    "        x = self.fc3(x)\n",
    "        return x\n",
    "\n",
    "\n",
    "model = FeedForwardNN()\n",
    "criterion = nn.CrossEntropyLoss()\n",
    "optimizer = optim.Adam(model.parameters(), lr=0.001)\n",
    "\n",
    "\n",
    "num_epochs = 10\n",
    "\n",
    "for epoch in range(num_epochs):\n",
    "    model.train()\n",
    "    running_loss = 0.0\n",
    "    for i, (inputs, labels) in enumerate(trainloader, 0):\n",
    "        optimizer.zero_grad()\n",
    "        outputs = model(inputs)\n",
    "        loss = criterion(outputs, labels)\n",
    "        loss.backward()\n",
    "        optimizer.step()\n",
    "\n",
    "        running_loss += loss.item()\n",
    "\n",
    "    print(f\"Epoch [{epoch+1}/{num_epochs}], Loss: {running_loss/len(trainloader):.4f}\")"
   ]
  },
  {
   "cell_type": "code",
   "execution_count": 5,
   "id": "7572ad84",
   "metadata": {},
   "outputs": [
    {
     "name": "stdout",
     "output_type": "stream",
     "text": [
      "Test Accuracy: 97.39%\n"
     ]
    }
   ],
   "source": [
    "model.eval()\n",
    "correct = 0\n",
    "total = 0\n",
    "\n",
    "with torch.no_grad():\n",
    "    for inputs, labels in testloader:\n",
    "        outputs = model(inputs)\n",
    "        _, predicted = torch.max(outputs, 1)\n",
    "        total += labels.size(0)\n",
    "        correct += (predicted == labels).sum().item()\n",
    "\n",
    "accuracy = 100 * correct / total\n",
    "print(f\"Test Accuracy: {accuracy:.2f}%\")\n",
    "\n",
    "\n",
    "all_preds = []\n",
    "all_labels = []\n",
    "\n",
    "with torch.no_grad():\n",
    "    for inputs, labels in testloader:\n",
    "        outputs = model(inputs)\n",
    "        _, predicted = torch.max(outputs, 1)\n",
    "        all_preds.extend(predicted.numpy())\n",
    "        all_labels.extend(labels.numpy())"
   ]
  },
  {
   "cell_type": "code",
   "execution_count": 7,
   "id": "22517173",
   "metadata": {},
   "outputs": [
    {
     "data": {
      "image/png": "[encoded data removed]",
      "text/plain": [
       "<Figure size 1000x700 with 2 Axes>"
      ]
     },
     "metadata": {},
     "output_type": "display_data"
    },
    {
     "name": "stdout",
     "output_type": "stream",
     "text": [
      "Number of learnable parameters: 109386\n"
     ]
    }
   ],
   "source": [
    "conf_matrix = confusion_matrix(all_labels, all_preds)\n",
    "\n",
    "plt.figure(figsize=(10, 7))\n",
    "sns.heatmap(conf_matrix, annot=True, fmt='d', cmap='Blues', xticklabels=np.arange(10), yticklabels=np.arange(10))\n",
    "plt.xlabel('Predicted Label')\n",
    "plt.ylabel('True Label')\n",
    "plt.title('Confusion Matrix')\n",
    "plt.show()\n",
    "\n",
    "\n",
    "def count_parameters(model):\n",
    "    return sum(p.numel() for p in model.parameters() if p.requires_grad)\n",
    "\n",
    "num_params = count_parameters(model)\n",
    "print(f\"Number of learnable parameters: {num_params}\")\n"
   ]
  },
  {
   "cell_type": "code",
   "execution_count": null,
   "id": "40c7abd2",
   "metadata": {},
   "outputs": [],
   "source": []
  }
 ],
 "metadata": {
  "kernelspec": {
   "display_name": "Python (dl_env)",
   "language": "python",
   "name": "dl_env"
  },
  "language_info": {
   "codemirror_mode": {
    "name": "ipython",
    "version": 3
   },
   "file_extension": ".py",
   "mimetype": "text/x-python",
   "name": "python",
   "nbconvert_exporter": "python",
   "pygments_lexer": "ipython3",
   "version": "3.12.3"
  }
 },
 "nbformat": 4,
 "nbformat_minor": 5
}
